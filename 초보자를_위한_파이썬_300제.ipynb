{
  "nbformat": 4,
  "nbformat_minor": 0,
  "metadata": {
    "colab": {
      "name": "초보자를 위한 파이썬 300제.ipynb",
      "provenance": [],
      "authorship_tag": "ABX9TyMPrJGglt/lMBqlLYFgjqaw"
    },
    "kernelspec": {
      "name": "python3",
      "display_name": "Python 3"
    }
  },
  "cells": [
    {
      "cell_type": "markdown",
      "metadata": {
        "id": "pegdFRitNiEy",
        "colab_type": "text"
      },
      "source": [
        "# 001~010"
      ]
    },
    {
      "cell_type": "code",
      "metadata": {
        "id": "fszTozlbNkB7",
        "colab_type": "code",
        "colab": {
          "base_uri": "https://localhost:8080/",
          "height": 197
        },
        "outputId": "3dcff5aa-a9b0-485e-abed-1689b04bdd27"
      },
      "source": [
        "print('Hello World')\n",
        "print(\"Mary's cosmetics\")\n",
        "print('신씨가 소리질렀다. \"도둑이야\".')\n",
        "print('\"C:\\Windows\"')\n",
        "# \\t: 탭간격 띄우기, \\n: 행 띄우기\n",
        "# 오늘은 일요일\n",
        "print('naver;kakao;sk;samsung')  # --> print('naver', 'kakao', 'sk', 'samsung', sep=';') // sep 인자: sep=' ' -출력되는 값들 사이에 한 칸의 공백대신 sep 인자 출력\n",
        "print('naver', 'kakao', 'sk', 'samsung', sep='/')\n",
        "print(\"first\", end=' '); print(\"second\")\n",
        "print(5/3); print(5//3); print(5%3)"
      ],
      "execution_count": null,
      "outputs": [
        {
          "output_type": "stream",
          "text": [
            "Hello World\n",
            "Mary's cosmetics\n",
            "신씨가 소리질렀다. \"도둑이야\".\n",
            "\"C:\\Windows\"\n",
            "naver;kakao;sk;samsung\n",
            "naver/kakao/sk/samsung\n",
            "first second\n",
            "1.6666666666666667\n",
            "1\n",
            "2\n"
          ],
          "name": "stdout"
        }
      ]
    },
    {
      "cell_type": "markdown",
      "metadata": {
        "id": "bvj54VPPTPPX",
        "colab_type": "text"
      },
      "source": [
        "# 011~020"
      ]
    },
    {
      "cell_type": "code",
      "metadata": {
        "id": "Evqrd804PlKH",
        "colab_type": "code",
        "colab": {
          "base_uri": "https://localhost:8080/",
          "height": 125
        },
        "outputId": "e0fb3932-5249-451a-91eb-b5412edaee9d"
      },
      "source": [
        "#11 \n",
        "삼성전자 = 50000; print(삼성전자 * 10)   # --변수 ≠ 문자열\n",
        "#12\n",
        "시가총액 = '298조'; 현재가 = '50000원'; PER = 15.79\n",
        "#13\n",
        "s = 'hello'\n",
        "t = 'python'\n",
        "print(s+'!',t)\n",
        "#14\n",
        "8\n",
        "#15\n",
        "a = '132'\n",
        "type(a)              # -- str\n",
        "print(type(a))       # -- <class 'str'>\n",
        "#16\n",
        "num_str = '720'\n",
        "int(num_str)\n",
        "#17\n",
        "num = 100\n",
        "str(num)\n",
        "#18\n",
        "a = \"15.79\"\n",
        "b = float(a)\n",
        "print(b)\n",
        "#19\n",
        "year = \"2020\"\n",
        "year_int = int(year)\n",
        "print(year_int - 1, year_int - 2, year_int - 3)\n",
        "#20\n",
        "a = 48584 * 36\n",
        "print(a)"
      ],
      "execution_count": null,
      "outputs": [
        {
          "output_type": "stream",
          "text": [
            "500000\n",
            "hello! python\n",
            "<class 'str'>\n",
            "15.79\n",
            "2019 2018 2017\n",
            "1749024\n"
          ],
          "name": "stdout"
        }
      ]
    },
    {
      "cell_type": "markdown",
      "metadata": {
        "id": "qSOPI4e7Yqty",
        "colab_type": "text"
      },
      "source": [
        "# 021~030"
      ]
    },
    {
      "cell_type": "code",
      "metadata": {
        "id": "7XY7NcIJTujH",
        "colab_type": "code",
        "colab": {
          "base_uri": "https://localhost:8080/",
          "height": 107
        },
        "outputId": "132c6287-cd24-4dac-8e59-445bd6047a1d"
      },
      "source": [
        "#21: 문자열 인덱싱\n",
        "letters = 'python'\n",
        "#letters[0][2]            # --2D list (밑 참고)\n",
        "print(letters[0], end=' '); print(letters[2])\n",
        "\n",
        "# 참고: 2D Array \n",
        "# letters = [1, 2, [3, 4, 5]]\n",
        "# letters[2][0]     #letters의 3번째 item의 1번째 item: 3\n",
        "\n",
        "# 파이썬 문자열에서 <한 글자>를 가져오는 것을 인덱싱이라고 부릅니다. 파이썬 인덱싱은 0부터 시작합니다.\n",
        "\n",
        "#22: 문자열 슬라이싱\n",
        "license_plate = \"42가 2210\"\n",
        "print(license_plate[4:])\n",
        "\n",
        "# 문자열에서 <여러 글자>를 가져오는 것을 슬라이싱이라고 부릅니다.\n",
        "\n",
        "#23:문자열 인덱싱 2\n",
        "string = \"홀짝홀짝홀짝\"\n",
        "print(string[::2])\n",
        "# 슬라이싱할 때 시작인덱스:끝인덱스:오프셋을 지정할 수 있습니다.\n",
        "\n",
        "#24: 문자열 슬라이싱 2\n",
        "string = \"PYTHON\"\n",
        "print(string[::-1])\n",
        "\n",
        "#25: 문자열 치환\n",
        "phone_number = \"010-1111-2222\"\n",
        "print(phone_number.replace('-',' '))"
      ],
      "execution_count": null,
      "outputs": [
        {
          "output_type": "stream",
          "text": [
            "p t\n",
            "2210\n",
            "홀홀홀\n",
            "NOHTYP\n",
            "010 1111 2222\n"
          ],
          "name": "stdout"
        }
      ]
    },
    {
      "cell_type": "markdown",
      "metadata": {
        "id": "jKFANyB_zFtw",
        "colab_type": "text"
      },
      "source": [
        "# 026. 문자열 다루기 \n",
        "25번 문제의 전화번호를 모두 붙여 출력"
      ]
    },
    {
      "cell_type": "code",
      "metadata": {
        "id": "0giwbqVreX5w",
        "colab_type": "code",
        "colab": {
          "base_uri": "https://localhost:8080/",
          "height": 35
        },
        "outputId": "3394e72b-74c8-432a-8250-4585fdeb7e43"
      },
      "source": [
        "phone_number = \"010-111-2222\"\n",
        "print(phone_number.replace('-',''))"
      ],
      "execution_count": null,
      "outputs": [
        {
          "output_type": "stream",
          "text": [
            "0101112222\n"
          ],
          "name": "stdout"
        }
      ]
    },
    {
      "cell_type": "markdown",
      "metadata": {
        "id": "1Mf9o8whzmtI",
        "colab_type": "text"
      },
      "source": [
        "# 027. 문자열 다루기\n",
        "url에 저장된 웹 페이지 주소에서 도메인 출력"
      ]
    },
    {
      "cell_type": "code",
      "metadata": {
        "id": "HWIw4AsAzdhX",
        "colab_type": "code",
        "colab": {
          "base_uri": "https://localhost:8080/",
          "height": 89
        },
        "outputId": "7cf33fc4-646c-4746-f7bf-d19244a19005"
      },
      "source": [
        "url = \"http://sharebook.kr\"\n",
        "print(url[-2:])\n",
        "\n",
        "# think: \n",
        "print('\\n')\n",
        "url_split = url.split('.')\n",
        "print(url_split[-1])"
      ],
      "execution_count": null,
      "outputs": [
        {
          "output_type": "stream",
          "text": [
            "kr\n",
            "\n",
            "\n",
            "kr\n"
          ],
          "name": "stdout"
        }
      ]
    },
    {
      "cell_type": "markdown",
      "metadata": {
        "id": "nbSpscFe1D6P",
        "colab_type": "text"
      },
      "source": [
        "※ .split()\n",
        "\n",
        "*   괄호 안의 특정 값을 구분자로 문자열을 나눔.\n",
        "*   괄호 안이 비었을 경우 공백을 기준으로 문자열 나눔. \n",
        "*   나눈 문자열은 리스트로."
      ]
    },
    {
      "cell_type": "markdown",
      "metadata": {
        "id": "9GOuxXZK10VV",
        "colab_type": "text"
      },
      "source": [
        "# 028. 문자열은 immutable\n",
        "아래 코드의 실행 결과 예상"
      ]
    },
    {
      "cell_type": "code",
      "metadata": {
        "id": "Djc663ySz3_l",
        "colab_type": "code",
        "colab": {
          "base_uri": "https://localhost:8080/",
          "height": 244
        },
        "outputId": "b17adea7-c201-4f74-df15-7345b14e76bc"
      },
      "source": [
        "lang = 'python'\n",
        "lang[0] = 'P'\n",
        "print(lang)\n",
        "\n",
        "# 예상 답: 'Python'  (X)\n",
        "# think: 문자열은 immutable!!!!!"
      ],
      "execution_count": null,
      "outputs": [
        {
          "output_type": "error",
          "ename": "TypeError",
          "evalue": "ignored",
          "traceback": [
            "\u001b[0;31m---------------------------------------------------------------------------\u001b[0m",
            "\u001b[0;31mTypeError\u001b[0m                                 Traceback (most recent call last)",
            "\u001b[0;32m<ipython-input-7-882d182e50a4>\u001b[0m in \u001b[0;36m<module>\u001b[0;34m()\u001b[0m\n\u001b[1;32m      1\u001b[0m \u001b[0mlang\u001b[0m \u001b[0;34m=\u001b[0m \u001b[0;34m'python'\u001b[0m\u001b[0;34m\u001b[0m\u001b[0;34m\u001b[0m\u001b[0m\n\u001b[0;32m----> 2\u001b[0;31m \u001b[0mlang\u001b[0m\u001b[0;34m[\u001b[0m\u001b[0;36m0\u001b[0m\u001b[0;34m]\u001b[0m \u001b[0;34m=\u001b[0m \u001b[0;34m'P'\u001b[0m\u001b[0;34m\u001b[0m\u001b[0;34m\u001b[0m\u001b[0m\n\u001b[0m\u001b[1;32m      3\u001b[0m \u001b[0mprint\u001b[0m\u001b[0;34m(\u001b[0m\u001b[0mlang\u001b[0m\u001b[0;34m)\u001b[0m\u001b[0;34m\u001b[0m\u001b[0;34m\u001b[0m\u001b[0m\n\u001b[1;32m      4\u001b[0m \u001b[0;34m\u001b[0m\u001b[0m\n\u001b[1;32m      5\u001b[0m \u001b[0;31m# 'Python'\u001b[0m\u001b[0;34m\u001b[0m\u001b[0;34m\u001b[0m\u001b[0;34m\u001b[0m\u001b[0m\n",
            "\u001b[0;31mTypeError\u001b[0m: 'str' object does not support item assignment"
          ]
        }
      ]
    },
    {
      "cell_type": "markdown",
      "metadata": {
        "id": "ArAhY7Uw29M5",
        "colab_type": "text"
      },
      "source": [
        "# 029. replace 메서드\n",
        "아래 문자열에서 소문자 'a'를 대문자 'A'로 변경"
      ]
    },
    {
      "cell_type": "code",
      "metadata": {
        "id": "YVVSN5Yk3eBW",
        "colab_type": "code",
        "colab": {
          "base_uri": "https://localhost:8080/",
          "height": 71
        },
        "outputId": "7364c869-6423-4601-dfbb-102f111ec723"
      },
      "source": [
        "string = 'abcdfe2a354a32a'\n",
        "# print(string.upper('a'))\n",
        "\n",
        "# think:\n",
        "print(string.replace('a', 'A'))\n",
        "\n",
        "# think more: \n",
        "# 1. 첫글자만 대문자로 변환하기: .capitalize()\n",
        "# 2. 모든 문자 대문자로 변환하기: .upper()"
      ],
      "execution_count": null,
      "outputs": [
        {
          "output_type": "stream",
          "text": [
            "Abcdfe2A354A32A\n",
            "\n",
            "\n"
          ],
          "name": "stdout"
        }
      ]
    },
    {
      "cell_type": "markdown",
      "metadata": {
        "id": "T124TwIE3lvE",
        "colab_type": "text"
      },
      "source": [
        "# 030. replace 메서드\n",
        "아래 코드의 실행 결과 예상"
      ]
    },
    {
      "cell_type": "code",
      "metadata": {
        "id": "m1euX_i34iaa",
        "colab_type": "code",
        "colab": {
          "base_uri": "https://localhost:8080/",
          "height": 35
        },
        "outputId": "8750e03a-e385-4709-80e5-92bc8ae40f6f"
      },
      "source": [
        "string = 'abcd'\n",
        "string.replace('b', 'B')\n",
        "print(string)\n",
        "\n",
        "# 예상 답: 'aBcd'  (X)\n",
        "\n",
        "# think: 문자열은 immutable!!!!!!!!!!! 벌써 두번째 틀림. -_-"
      ],
      "execution_count": null,
      "outputs": [
        {
          "output_type": "stream",
          "text": [
            "abcd\n"
          ],
          "name": "stdout"
        }
      ]
    },
    {
      "cell_type": "markdown",
      "metadata": {
        "id": "_mpkzE9S47yZ",
        "colab_type": "text"
      },
      "source": [
        "# 031. 문자열 합치기\n",
        "아래 코드의 실행 결과 예상"
      ]
    },
    {
      "cell_type": "code",
      "metadata": {
        "id": "MPlc-qMQ4o6T",
        "colab_type": "code",
        "colab": {
          "base_uri": "https://localhost:8080/",
          "height": 53
        },
        "outputId": "937ad401-19d4-4ac5-c233-8604e0fb3312"
      },
      "source": [
        "a = \"3\"\n",
        "b = \"4\"\n",
        "print(a + b)\n",
        "print(type(a+b))\n",
        "\n",
        "# 예상 답: '3''4'    (X)\n",
        "\n",
        "# think: 34"
      ],
      "execution_count": null,
      "outputs": [
        {
          "output_type": "stream",
          "text": [
            "34\n",
            "<class 'str'>\n"
          ],
          "name": "stdout"
        }
      ]
    },
    {
      "cell_type": "markdown",
      "metadata": {
        "id": "MbNk-uxi5g7w",
        "colab_type": "text"
      },
      "source": [
        "# 032. 문자열 곱하기\n",
        "아래 코드의 실행 결과 예상"
      ]
    },
    {
      "cell_type": "code",
      "metadata": {
        "id": "0PwUnOeG5JqH",
        "colab_type": "code",
        "colab": {
          "base_uri": "https://localhost:8080/",
          "height": 35
        },
        "outputId": "2aec4a6b-1bd3-4a27-e35c-c34dfd44ee44"
      },
      "source": [
        "print(\"Hi\" * 3)\n",
        "\n",
        "# 예상 답: HiHiHi (O)"
      ],
      "execution_count": null,
      "outputs": [
        {
          "output_type": "stream",
          "text": [
            "HiHiHi\n"
          ],
          "name": "stdout"
        }
      ]
    },
    {
      "cell_type": "markdown",
      "metadata": {
        "id": "X_BqCg9O5tt0",
        "colab_type": "text"
      },
      "source": [
        "# 033.  문자열 곱하기\n",
        "화면에 '-' 80개 출력"
      ]
    },
    {
      "cell_type": "code",
      "metadata": {
        "id": "tP2jAG0w51v8",
        "colab_type": "code",
        "colab": {
          "base_uri": "https://localhost:8080/",
          "height": 35
        },
        "outputId": "374b856e-e1a5-41d0-ea5b-6478de9b9bd0"
      },
      "source": [
        "print('-' * 80)"
      ],
      "execution_count": null,
      "outputs": [
        {
          "output_type": "stream",
          "text": [
            "--------------------------------------------------------------------------------\n"
          ],
          "name": "stdout"
        }
      ]
    },
    {
      "cell_type": "markdown",
      "metadata": {
        "id": "y_Jys0wo55D3",
        "colab_type": "text"
      },
      "source": [
        "# 034. 문자열 곱하기\n",
        "변수에 문자열 더하기와 문자열 곱하기를 사용하여 다음과 같이 출력: \n",
        "python java python java python java python java"
      ]
    },
    {
      "cell_type": "code",
      "metadata": {
        "id": "CyOosTjp6K-f",
        "colab_type": "code",
        "colab": {
          "base_uri": "https://localhost:8080/",
          "height": 35
        },
        "outputId": "202d7fe4-9410-44cf-cc60-b05414f3b247"
      },
      "source": [
        "t1 = 'python'\n",
        "t2 = 'java'\n",
        "\n",
        "print((t1 + ' ' + t2 + ' ') * 4)"
      ],
      "execution_count": null,
      "outputs": [
        {
          "output_type": "stream",
          "text": [
            "python java python java python java python java \n"
          ],
          "name": "stdout"
        }
      ]
    },
    {
      "cell_type": "markdown",
      "metadata": {
        "id": "QYIoDiR76Xm6",
        "colab_type": "text"
      },
      "source": [
        "# 035. 문자열 출력\n",
        "% formatting 을 사용하여 다음과 같이 출력: \n",
        "이름: 김민수 나이: 10\n",
        "이름: 이철희 나이: 13"
      ]
    },
    {
      "cell_type": "code",
      "metadata": {
        "id": "9QBP_D-96qcp",
        "colab_type": "code",
        "colab": {
          "base_uri": "https://localhost:8080/",
          "height": 53
        },
        "outputId": "2fbd4a2a-d0a0-4b51-d138-d155617409d9"
      },
      "source": [
        "name1 = \"김민수\" \n",
        "age1 = 10\n",
        "name2 = \"이철희\"\n",
        "age2 = 13\n",
        "\n",
        "print(\"이름: %s 나이: %d\" % (name1, age1))\n",
        "print(\"이름: %s 나이: %d\" % (name2, age2))"
      ],
      "execution_count": null,
      "outputs": [
        {
          "output_type": "stream",
          "text": [
            "이름: 김민수 나이: 10\n",
            "이름: 이철희 나이: 13\n"
          ],
          "name": "stdout"
        }
      ]
    },
    {
      "cell_type": "markdown",
      "metadata": {
        "id": "uemctjfp7zGS",
        "colab_type": "text"
      },
      "source": [
        "# 036. 문자열출력\n",
        "format()메서드를 이용하여 035 풀기"
      ]
    },
    {
      "cell_type": "code",
      "metadata": {
        "id": "ChgUz5Fj743V",
        "colab_type": "code",
        "colab": {
          "base_uri": "https://localhost:8080/",
          "height": 53
        },
        "outputId": "6ea7f59f-a105-4f8b-c93e-87505ac8efda"
      },
      "source": [
        "name1 = \"김민수\" \n",
        "age1 = 10\n",
        "name2 = \"이철희\"\n",
        "age2 = 13\n",
        "\n",
        "print(\"이름: {} 나이: {}\".format(name1, age1))\n",
        "print(\"이름: {} 나이: {}\".format(name2, age2))"
      ],
      "execution_count": null,
      "outputs": [
        {
          "output_type": "stream",
          "text": [
            "이름: 김민수 나이: 10\n",
            "이름: 이철희 나이: 13\n"
          ],
          "name": "stdout"
        }
      ]
    },
    {
      "cell_type": "markdown",
      "metadata": {
        "id": "LAl4kEb68gLx",
        "colab_type": "text"
      },
      "source": [
        "# 037. 문자열출력\n",
        "f-string을 이용하여 035 풀기"
      ]
    },
    {
      "cell_type": "code",
      "metadata": {
        "id": "pIdh9PTT8nRs",
        "colab_type": "code",
        "colab": {
          "base_uri": "https://localhost:8080/",
          "height": 53
        },
        "outputId": "04b6cc2d-32b0-4cb1-f123-69333feef002"
      },
      "source": [
        "name1 = \"김민수\" \n",
        "age1 = 10\n",
        "name2 = \"이철희\"\n",
        "age2 = 13\n",
        "\n",
        "print(f\"이름: {name1} 나이: {age1}\")\n",
        "print(f\"이름: {name2} 나이: {age2}\")"
      ],
      "execution_count": null,
      "outputs": [
        {
          "output_type": "stream",
          "text": [
            "이름: 김민수 나이: 10\n",
            "이름: 이철희 나이: 13\n"
          ],
          "name": "stdout"
        }
      ]
    },
    {
      "cell_type": "markdown",
      "metadata": {
        "id": "Xl0ek2Vz7Iw0",
        "colab_type": "text"
      },
      "source": [
        "*   % formatting --\n",
        "print(\"~ %s ~ %d ~\" % (문자열, int))\n",
        "\n",
        "*   format() --\n",
        "print(\" ~ {} ~ \".format())\n",
        "※ format적용대상이 문자열인지 int인지 안따지고 {}로 표현\n",
        "\n",
        "*   f-string --\n",
        "f\"~{변수}\"\n"
      ]
    },
    {
      "cell_type": "markdown",
      "metadata": {
        "id": "D8pXRq1q9DOu",
        "colab_type": "text"
      },
      "source": [
        "# 038. 컴마 제거하기\n",
        "컴마를 제거한 후 정수타입으로 변환"
      ]
    },
    {
      "cell_type": "code",
      "metadata": {
        "id": "X7Cic9MX9bbx",
        "colab_type": "code",
        "colab": {
          "base_uri": "https://localhost:8080/",
          "height": 35
        },
        "outputId": "72e47c5e-fcef-4e45-e89f-815909999e56"
      },
      "source": [
        "상장주식수 = \"5,969,782,550\"\n",
        "print(int(상장주식수.replace(',', '')))\n",
        "\n",
        "# 숫자형태의 문자열에 컴마가 있는 경우 형변환 X\n",
        "# --컴마 제거 후 변환!"
      ],
      "execution_count": null,
      "outputs": [
        {
          "output_type": "stream",
          "text": [
            "5969782550\n"
          ],
          "name": "stdout"
        }
      ]
    },
    {
      "cell_type": "markdown",
      "metadata": {
        "id": "mvKJe4Wh9muM",
        "colab_type": "text"
      },
      "source": [
        "# 039. 문자열 슬라이싱\n",
        "'2020/03'만 출력"
      ]
    },
    {
      "cell_type": "code",
      "metadata": {
        "id": "D2tJrAVL95_Y",
        "colab_type": "code",
        "colab": {
          "base_uri": "https://localhost:8080/",
          "height": 35
        },
        "outputId": "fb407f99-24eb-439e-e932-26686455161d"
      },
      "source": [
        "분기 = \"2020/03(E) (IFRS연결)\"\n",
        "\n",
        "print(분기[:7])"
      ],
      "execution_count": null,
      "outputs": [
        {
          "output_type": "stream",
          "text": [
            "2020/03\n"
          ],
          "name": "stdout"
        }
      ]
    },
    {
      "cell_type": "markdown",
      "metadata": {
        "id": "N0Hq2phO-EPu",
        "colab_type": "text"
      },
      "source": [
        "# 040. strip 메서드\n",
        "문자열의 좌우 공백 제거"
      ]
    },
    {
      "cell_type": "code",
      "metadata": {
        "id": "FxwLJqXi-Mk-",
        "colab_type": "code",
        "colab": {
          "base_uri": "https://localhost:8080/",
          "height": 35
        },
        "outputId": "db60f0af-d400-4310-9668-aaba23687f71"
      },
      "source": [
        "data = \"   삼성전자    \"\n",
        "\n",
        "print(data.strip())"
      ],
      "execution_count": null,
      "outputs": [
        {
          "output_type": "stream",
          "text": [
            "삼성전자\n"
          ],
          "name": "stdout"
        }
      ]
    },
    {
      "cell_type": "markdown",
      "metadata": {
        "id": "M__a6AhS-Q-F",
        "colab_type": "text"
      },
      "source": [
        "# 041. upper 메서드\n",
        "대문자로 변경"
      ]
    },
    {
      "cell_type": "code",
      "metadata": {
        "id": "FPJDXHOq-szK",
        "colab_type": "code",
        "colab": {
          "base_uri": "https://localhost:8080/",
          "height": 35
        },
        "outputId": "f2862f26-dc1e-4181-bd97-9eac09488862"
      },
      "source": [
        "ticker = \"btc_krw\"\n",
        "print(ticker.upper())"
      ],
      "execution_count": 1,
      "outputs": [
        {
          "output_type": "stream",
          "text": [
            "BTC_KRW\n"
          ],
          "name": "stdout"
        }
      ]
    },
    {
      "cell_type": "markdown",
      "metadata": {
        "id": "rIZ2uREd1IUv",
        "colab_type": "text"
      },
      "source": [
        "# 042. lower 메서드\n",
        "소문자로 변경"
      ]
    },
    {
      "cell_type": "code",
      "metadata": {
        "id": "vSjDg5qv1T-J",
        "colab_type": "code",
        "colab": {
          "base_uri": "https://localhost:8080/",
          "height": 35
        },
        "outputId": "5429bb44-efda-448b-ef24-ab9eb53f6dec"
      },
      "source": [
        "ticker = \"BTC_KRW\"\n",
        "print(ticker.lower())"
      ],
      "execution_count": 3,
      "outputs": [
        {
          "output_type": "stream",
          "text": [
            "btc_krw\n"
          ],
          "name": "stdout"
        }
      ]
    },
    {
      "cell_type": "markdown",
      "metadata": {
        "id": "mH3_d2pN1bKv",
        "colab_type": "text"
      },
      "source": [
        "# 043. capitalize 메서드\n",
        "문자열 'hello'를 'Hello'로 변경"
      ]
    },
    {
      "cell_type": "code",
      "metadata": {
        "id": "WBVYvOvq1q4V",
        "colab_type": "code",
        "colab": {
          "base_uri": "https://localhost:8080/",
          "height": 35
        },
        "outputId": "2ba13f0b-10b1-4513-b2dc-b66aa7eb1421"
      },
      "source": [
        "str = 'hello'\n",
        "print(str.capitalize())"
      ],
      "execution_count": 5,
      "outputs": [
        {
          "output_type": "stream",
          "text": [
            "Hello\n"
          ],
          "name": "stdout"
        }
      ]
    },
    {
      "cell_type": "markdown",
      "metadata": {
        "id": "k6N_rka_1yHe",
        "colab_type": "text"
      },
      "source": [
        "# 044. endswith 메서드\n",
        "문자열로 저장되어 있는 파일이름이 'xlsx'로 끝나는지 확인"
      ]
    },
    {
      "cell_type": "code",
      "metadata": {
        "id": "O6WXguuA2Gxp",
        "colab_type": "code",
        "colab": {
          "base_uri": "https://localhost:8080/",
          "height": 35
        },
        "outputId": "21d3f485-91f4-4950-c114-ba693c80cd80"
      },
      "source": [
        "file_name = \"보고서.xlsx\"\n",
        "print(file_name.endswith('xlsx'))"
      ],
      "execution_count": 6,
      "outputs": [
        {
          "output_type": "stream",
          "text": [
            "True\n"
          ],
          "name": "stdout"
        }
      ]
    },
    {
      "cell_type": "markdown",
      "metadata": {
        "id": "r7hObrLL2Rjz",
        "colab_type": "text"
      },
      "source": [
        "# 045. endswith 메서드 \n",
        "문자열로 저장되어 있는 파일이름이 'xlsx' 또는 'xls'로 끝나는지 확인"
      ]
    },
    {
      "cell_type": "code",
      "metadata": {
        "id": "NS50JHbz2gFL",
        "colab_type": "code",
        "colab": {
          "base_uri": "https://localhost:8080/",
          "height": 35
        },
        "outputId": "33a0690e-551e-4254-e106-a9def4833d21"
      },
      "source": [
        "file_name = \"보고서.xlsx\"\n",
        "print(file_name.endswith('xlsx' or 'xls'))"
      ],
      "execution_count": 9,
      "outputs": [
        {
          "output_type": "stream",
          "text": [
            "True\n"
          ],
          "name": "stdout"
        }
      ]
    },
    {
      "cell_type": "markdown",
      "metadata": {
        "id": "aXavriBJ2pRR",
        "colab_type": "text"
      },
      "source": [
        "# 046. startswith 메서드\n",
        "문자열로 저장되어 있는 파일이름이 '2020'으로 시작하는지 확인"
      ]
    },
    {
      "cell_type": "code",
      "metadata": {
        "id": "ctaDz8DM3PuW",
        "colab_type": "code",
        "colab": {
          "base_uri": "https://localhost:8080/",
          "height": 35
        },
        "outputId": "7d81a053-93d8-447e-c478-92cd476580f8"
      },
      "source": [
        "file_name = \"2020_보고서.xlsx\"\n",
        "print(file_name.startswith('2020'))"
      ],
      "execution_count": 10,
      "outputs": [
        {
          "output_type": "stream",
          "text": [
            "True\n"
          ],
          "name": "stdout"
        }
      ]
    },
    {
      "cell_type": "markdown",
      "metadata": {
        "id": "la1GaQYU3Wgw",
        "colab_type": "text"
      },
      "source": [
        "# 047. split 메서드\n",
        "공백을 기준으로 문자열 나누기"
      ]
    },
    {
      "cell_type": "code",
      "metadata": {
        "id": "xFwLtl_83emv",
        "colab_type": "code",
        "colab": {
          "base_uri": "https://localhost:8080/",
          "height": 35
        },
        "outputId": "aa529638-d4ae-4fd9-94c8-40a5e203dcc5"
      },
      "source": [
        "a = \"hello world\"\n",
        "print(a.split())"
      ],
      "execution_count": 12,
      "outputs": [
        {
          "output_type": "stream",
          "text": [
            "['hello', 'world']\n"
          ],
          "name": "stdout"
        }
      ]
    },
    {
      "cell_type": "markdown",
      "metadata": {
        "id": "_gJe23I93kZd",
        "colab_type": "text"
      },
      "source": [
        "# 048. split 메서드\n",
        "btc와 krw로 나누기\n"
      ]
    },
    {
      "cell_type": "code",
      "metadata": {
        "id": "HS3_1UBd3vKM",
        "colab_type": "code",
        "colab": {
          "base_uri": "https://localhost:8080/",
          "height": 35
        },
        "outputId": "25843772-173e-4f43-e3d5-58592a5e3aa0"
      },
      "source": [
        "ticker = \"btc_krw\"\n",
        "print(ticker.split('_'))"
      ],
      "execution_count": 14,
      "outputs": [
        {
          "output_type": "stream",
          "text": [
            "['btc', 'krw']\n"
          ],
          "name": "stdout"
        }
      ]
    },
    {
      "cell_type": "markdown",
      "metadata": {
        "id": "EdBwJwQb32nv",
        "colab_type": "text"
      },
      "source": [
        "# 049. split 메서드\n",
        "연도, 월, 일로 나누기\n"
      ]
    },
    {
      "cell_type": "code",
      "metadata": {
        "id": "AB_UudxN4CH0",
        "colab_type": "code",
        "colab": {
          "base_uri": "https://localhost:8080/",
          "height": 35
        },
        "outputId": "e91dc8e9-42b6-4de0-f55f-83abede03faa"
      },
      "source": [
        "date = \"2020-05-01\"\n",
        "print(date.split('-'))"
      ],
      "execution_count": 15,
      "outputs": [
        {
          "output_type": "stream",
          "text": [
            "['2020', '05', '01']\n"
          ],
          "name": "stdout"
        }
      ]
    },
    {
      "cell_type": "markdown",
      "metadata": {
        "id": "7jmzxGFo4G2U",
        "colab_type": "text"
      },
      "source": [
        "# 050. rstrip 메서드\n",
        "문자열 오른쪽 공백 제거"
      ]
    },
    {
      "cell_type": "code",
      "metadata": {
        "id": "Y-zp4zSz4Qbl",
        "colab_type": "code",
        "colab": {
          "base_uri": "https://localhost:8080/",
          "height": 35
        },
        "outputId": "346977ac-b600-409e-a556-f9bf85fb9c33"
      },
      "source": [
        "data = \"039490      \"\n",
        "print(data.rstrip())"
      ],
      "execution_count": 17,
      "outputs": [
        {
          "output_type": "stream",
          "text": [
            "039490\n"
          ],
          "name": "stdout"
        }
      ]
    },
    {
      "cell_type": "markdown",
      "metadata": {
        "id": "Yp0VWyX24W99",
        "colab_type": "text"
      },
      "source": [
        "# **4. 파이썬 리스트**"
      ]
    },
    {
      "cell_type": "markdown",
      "metadata": {
        "id": "QsHQfHkb4lQb",
        "colab_type": "text"
      },
      "source": [
        "# 051. 리스트 생성\n",
        "영화제목 movie_rank이름의 리스트에 저장하기\n",
        "\n",
        "![051.PNG](data:image/png;base64,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)"
      ]
    },
    {
      "cell_type": "code",
      "metadata": {
        "id": "7AcQj7w_47Pa",
        "colab_type": "code",
        "colab": {}
      },
      "source": [
        ""
      ],
      "execution_count": null,
      "outputs": []
    }
  ]
}