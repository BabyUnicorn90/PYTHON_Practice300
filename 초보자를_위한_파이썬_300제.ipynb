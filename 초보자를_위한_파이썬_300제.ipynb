{
  "nbformat": 4,
  "nbformat_minor": 0,
  "metadata": {
    "colab": {
      "name": "초보자를 위한 파이썬 300제.ipynb",
      "provenance": [],
      "authorship_tag": "ABX9TyNwkoxhJ7gevKAkT6phFnS/",
      "include_colab_link": true
    },
    "kernelspec": {
      "name": "python3",
      "display_name": "Python 3"
    }
  },
  "cells": [
    {
      "cell_type": "markdown",
      "metadata": {
        "id": "view-in-github",
        "colab_type": "text"
      },
      "source": [
        "<a href=\"https://colab.research.google.com/github/BabyUnicorn90/PYTHON_Practice300/blob/master/%EC%B4%88%EB%B3%B4%EC%9E%90%EB%A5%BC_%EC%9C%84%ED%95%9C_%ED%8C%8C%EC%9D%B4%EC%8D%AC_300%EC%A0%9C.ipynb\" target=\"_parent\"><img src=\"https://colab.research.google.com/assets/colab-badge.svg\" alt=\"Open In Colab\"/></a>"
      ]
    },
    {
      "cell_type": "markdown",
      "metadata": {
        "id": "pegdFRitNiEy",
        "colab_type": "text"
      },
      "source": [
        "# 001~010"
      ]
    },
    {
      "cell_type": "code",
      "metadata": {
        "id": "fszTozlbNkB7",
        "colab_type": "code",
        "colab": {
          "base_uri": "https://localhost:8080/",
          "height": 197
        },
        "outputId": "3dcff5aa-a9b0-485e-abed-1689b04bdd27"
      },
      "source": [
        "print('Hello World')\n",
        "print(\"Mary's cosmetics\")\n",
        "print('신씨가 소리질렀다. \"도둑이야\".')\n",
        "print('\"C:\\Windows\"')\n",
        "# \\t: 탭간격 띄우기, \\n: 행 띄우기\n",
        "# 오늘은 일요일\n",
        "print('naver;kakao;sk;samsung')  # --> print('naver', 'kakao', 'sk', 'samsung', sep=';') // sep 인자: sep=' ' -출력되는 값들 사이에 한 칸의 공백대신 sep 인자 출력\n",
        "print('naver', 'kakao', 'sk', 'samsung', sep='/')\n",
        "print(\"first\", end=' '); print(\"second\")\n",
        "print(5/3); print(5//3); print(5%3)"
      ],
      "execution_count": null,
      "outputs": [
        {
          "output_type": "stream",
          "text": [
            "Hello World\n",
            "Mary's cosmetics\n",
            "신씨가 소리질렀다. \"도둑이야\".\n",
            "\"C:\\Windows\"\n",
            "naver;kakao;sk;samsung\n",
            "naver/kakao/sk/samsung\n",
            "first second\n",
            "1.6666666666666667\n",
            "1\n",
            "2\n"
          ],
          "name": "stdout"
        }
      ]
    },
    {
      "cell_type": "markdown",
      "metadata": {
        "id": "bvj54VPPTPPX",
        "colab_type": "text"
      },
      "source": [
        "# 011~020"
      ]
    },
    {
      "cell_type": "code",
      "metadata": {
        "id": "Evqrd804PlKH",
        "colab_type": "code",
        "colab": {
          "base_uri": "https://localhost:8080/",
          "height": 125
        },
        "outputId": "e0fb3932-5249-451a-91eb-b5412edaee9d"
      },
      "source": [
        "#11 \n",
        "삼성전자 = 50000; print(삼성전자 * 10)   # --변수 ≠ 문자열\n",
        "#12\n",
        "시가총액 = '298조'; 현재가 = '50000원'; PER = 15.79\n",
        "#13\n",
        "s = 'hello'\n",
        "t = 'python'\n",
        "print(s+'!',t)\n",
        "#14\n",
        "8\n",
        "#15\n",
        "a = '132'\n",
        "type(a)              # -- str\n",
        "print(type(a))       # -- <class 'str'>\n",
        "#16\n",
        "num_str = '720'\n",
        "int(num_str)\n",
        "#17\n",
        "num = 100\n",
        "str(num)\n",
        "#18\n",
        "a = \"15.79\"\n",
        "b = float(a)\n",
        "print(b)\n",
        "#19\n",
        "year = \"2020\"\n",
        "year_int = int(year)\n",
        "print(year_int - 1, year_int - 2, year_int - 3)\n",
        "#20\n",
        "a = 48584 * 36\n",
        "print(a)"
      ],
      "execution_count": null,
      "outputs": [
        {
          "output_type": "stream",
          "text": [
            "500000\n",
            "hello! python\n",
            "<class 'str'>\n",
            "15.79\n",
            "2019 2018 2017\n",
            "1749024\n"
          ],
          "name": "stdout"
        }
      ]
    },
    {
      "cell_type": "markdown",
      "metadata": {
        "id": "qSOPI4e7Yqty",
        "colab_type": "text"
      },
      "source": [
        "# 021~030"
      ]
    },
    {
      "cell_type": "code",
      "metadata": {
        "id": "7XY7NcIJTujH",
        "colab_type": "code",
        "colab": {
          "base_uri": "https://localhost:8080/",
          "height": 107
        },
        "outputId": "132c6287-cd24-4dac-8e59-445bd6047a1d"
      },
      "source": [
        "#21: 문자열 인덱싱\n",
        "letters = 'python'\n",
        "#letters[0][2]            # --2D list (밑 참고)\n",
        "print(letters[0], end=' '); print(letters[2])\n",
        "\n",
        "# 참고: 2D Array \n",
        "# letters = [1, 2, [3, 4, 5]]\n",
        "# letters[2][0]     #letters의 3번째 item의 1번째 item: 3\n",
        "\n",
        "# 파이썬 문자열에서 <한 글자>를 가져오는 것을 인덱싱이라고 부릅니다. 파이썬 인덱싱은 0부터 시작합니다.\n",
        "\n",
        "#22: 문자열 슬라이싱\n",
        "license_plate = \"42가 2210\"\n",
        "print(license_plate[4:])\n",
        "\n",
        "# 문자열에서 <여러 글자>를 가져오는 것을 슬라이싱이라고 부릅니다.\n",
        "\n",
        "#23:문자열 인덱싱 2\n",
        "string = \"홀짝홀짝홀짝\"\n",
        "print(string[::2])\n",
        "# 슬라이싱할 때 시작인덱스:끝인덱스:오프셋을 지정할 수 있습니다.\n",
        "\n",
        "#24: 문자열 슬라이싱 2\n",
        "string = \"PYTHON\"\n",
        "print(string[::-1])\n",
        "\n",
        "#25: 문자열 치환\n",
        "phone_number = \"010-1111-2222\"\n",
        "print(phone_number.replace('-',' '))"
      ],
      "execution_count": null,
      "outputs": [
        {
          "output_type": "stream",
          "text": [
            "p t\n",
            "2210\n",
            "홀홀홀\n",
            "NOHTYP\n",
            "010 1111 2222\n"
          ],
          "name": "stdout"
        }
      ]
    },
    {
      "cell_type": "markdown",
      "metadata": {
        "id": "jKFANyB_zFtw",
        "colab_type": "text"
      },
      "source": [
        "# 026. 문자열 다루기 \n",
        "25번 문제의 전화번호를 모두 붙여 출력"
      ]
    },
    {
      "cell_type": "code",
      "metadata": {
        "id": "0giwbqVreX5w",
        "colab_type": "code",
        "colab": {
          "base_uri": "https://localhost:8080/",
          "height": 35
        },
        "outputId": "3394e72b-74c8-432a-8250-4585fdeb7e43"
      },
      "source": [
        "phone_number = \"010-111-2222\"\n",
        "print(phone_number.replace('-',''))"
      ],
      "execution_count": null,
      "outputs": [
        {
          "output_type": "stream",
          "text": [
            "0101112222\n"
          ],
          "name": "stdout"
        }
      ]
    },
    {
      "cell_type": "markdown",
      "metadata": {
        "id": "1Mf9o8whzmtI",
        "colab_type": "text"
      },
      "source": [
        "# 027. 문자열 다루기\n",
        "url에 저장된 웹 페이지 주소에서 도메인 출력"
      ]
    },
    {
      "cell_type": "code",
      "metadata": {
        "id": "HWIw4AsAzdhX",
        "colab_type": "code",
        "colab": {
          "base_uri": "https://localhost:8080/",
          "height": 89
        },
        "outputId": "7cf33fc4-646c-4746-f7bf-d19244a19005"
      },
      "source": [
        "url = \"http://sharebook.kr\"\n",
        "print(url[-2:])\n",
        "\n",
        "# think: \n",
        "print('\\n')\n",
        "url_split = url.split('.')\n",
        "print(url_split[-1])"
      ],
      "execution_count": null,
      "outputs": [
        {
          "output_type": "stream",
          "text": [
            "kr\n",
            "\n",
            "\n",
            "kr\n"
          ],
          "name": "stdout"
        }
      ]
    },
    {
      "cell_type": "markdown",
      "metadata": {
        "id": "nbSpscFe1D6P",
        "colab_type": "text"
      },
      "source": [
        "※ .split()\n",
        "\n",
        "*   괄호 안의 특정 값을 구분자로 문자열을 나눔.\n",
        "*   괄호 안이 비었을 경우 공백을 기준으로 문자열 나눔. \n",
        "*   나눈 문자열은 리스트로."
      ]
    },
    {
      "cell_type": "markdown",
      "metadata": {
        "id": "9GOuxXZK10VV",
        "colab_type": "text"
      },
      "source": [
        "# 028. 문자열은 immutable\n",
        "아래 코드의 실행 결과 예상"
      ]
    },
    {
      "cell_type": "code",
      "metadata": {
        "id": "Djc663ySz3_l",
        "colab_type": "code",
        "colab": {
          "base_uri": "https://localhost:8080/",
          "height": 244
        },
        "outputId": "b17adea7-c201-4f74-df15-7345b14e76bc"
      },
      "source": [
        "lang = 'python'\n",
        "lang[0] = 'P'\n",
        "print(lang)\n",
        "\n",
        "# 예상 답: 'Python'  (X)\n",
        "# think: 문자열은 immutable!!!!!"
      ],
      "execution_count": null,
      "outputs": [
        {
          "output_type": "error",
          "ename": "TypeError",
          "evalue": "ignored",
          "traceback": [
            "\u001b[0;31m---------------------------------------------------------------------------\u001b[0m",
            "\u001b[0;31mTypeError\u001b[0m                                 Traceback (most recent call last)",
            "\u001b[0;32m<ipython-input-7-882d182e50a4>\u001b[0m in \u001b[0;36m<module>\u001b[0;34m()\u001b[0m\n\u001b[1;32m      1\u001b[0m \u001b[0mlang\u001b[0m \u001b[0;34m=\u001b[0m \u001b[0;34m'python'\u001b[0m\u001b[0;34m\u001b[0m\u001b[0;34m\u001b[0m\u001b[0m\n\u001b[0;32m----> 2\u001b[0;31m \u001b[0mlang\u001b[0m\u001b[0;34m[\u001b[0m\u001b[0;36m0\u001b[0m\u001b[0;34m]\u001b[0m \u001b[0;34m=\u001b[0m \u001b[0;34m'P'\u001b[0m\u001b[0;34m\u001b[0m\u001b[0;34m\u001b[0m\u001b[0m\n\u001b[0m\u001b[1;32m      3\u001b[0m \u001b[0mprint\u001b[0m\u001b[0;34m(\u001b[0m\u001b[0mlang\u001b[0m\u001b[0;34m)\u001b[0m\u001b[0;34m\u001b[0m\u001b[0;34m\u001b[0m\u001b[0m\n\u001b[1;32m      4\u001b[0m \u001b[0;34m\u001b[0m\u001b[0m\n\u001b[1;32m      5\u001b[0m \u001b[0;31m# 'Python'\u001b[0m\u001b[0;34m\u001b[0m\u001b[0;34m\u001b[0m\u001b[0;34m\u001b[0m\u001b[0m\n",
            "\u001b[0;31mTypeError\u001b[0m: 'str' object does not support item assignment"
          ]
        }
      ]
    },
    {
      "cell_type": "markdown",
      "metadata": {
        "id": "ArAhY7Uw29M5",
        "colab_type": "text"
      },
      "source": [
        "# 029. replace 메서드\n",
        "아래 문자열에서 소문자 'a'를 대문자 'A'로 변경"
      ]
    },
    {
      "cell_type": "code",
      "metadata": {
        "id": "YVVSN5Yk3eBW",
        "colab_type": "code",
        "colab": {
          "base_uri": "https://localhost:8080/",
          "height": 71
        },
        "outputId": "7364c869-6423-4601-dfbb-102f111ec723"
      },
      "source": [
        "string = 'abcdfe2a354a32a'\n",
        "# print(string.upper('a'))\n",
        "\n",
        "# think:\n",
        "print(string.replace('a', 'A'))\n",
        "\n",
        "# think more: \n",
        "# 1. 첫글자만 대문자로 변환하기: .capitalize()\n",
        "# 2. 모든 문자 대문자로 변환하기: .upper()"
      ],
      "execution_count": null,
      "outputs": [
        {
          "output_type": "stream",
          "text": [
            "Abcdfe2A354A32A\n",
            "\n",
            "\n"
          ],
          "name": "stdout"
        }
      ]
    },
    {
      "cell_type": "markdown",
      "metadata": {
        "id": "T124TwIE3lvE",
        "colab_type": "text"
      },
      "source": [
        "# 030. replace 메서드\n",
        "아래 코드의 실행 결과 예상"
      ]
    },
    {
      "cell_type": "code",
      "metadata": {
        "id": "m1euX_i34iaa",
        "colab_type": "code",
        "colab": {
          "base_uri": "https://localhost:8080/",
          "height": 35
        },
        "outputId": "8750e03a-e385-4709-80e5-92bc8ae40f6f"
      },
      "source": [
        "string = 'abcd'\n",
        "string.replace('b', 'B')\n",
        "print(string)\n",
        "\n",
        "# 예상 답: 'aBcd'  (X)\n",
        "\n",
        "# think: 문자열은 immutable!!!!!!!!!!! 벌써 두번째 틀림. -_-"
      ],
      "execution_count": null,
      "outputs": [
        {
          "output_type": "stream",
          "text": [
            "abcd\n"
          ],
          "name": "stdout"
        }
      ]
    },
    {
      "cell_type": "markdown",
      "metadata": {
        "id": "_mpkzE9S47yZ",
        "colab_type": "text"
      },
      "source": [
        "# 031. 문자열 합치기\n",
        "아래 코드의 실행 결과 예상"
      ]
    },
    {
      "cell_type": "code",
      "metadata": {
        "id": "MPlc-qMQ4o6T",
        "colab_type": "code",
        "colab": {
          "base_uri": "https://localhost:8080/",
          "height": 53
        },
        "outputId": "937ad401-19d4-4ac5-c233-8604e0fb3312"
      },
      "source": [
        "a = \"3\"\n",
        "b = \"4\"\n",
        "print(a + b)\n",
        "print(type(a+b))\n",
        "\n",
        "# 예상 답: '3''4'    (X)\n",
        "\n",
        "# think: 34"
      ],
      "execution_count": null,
      "outputs": [
        {
          "output_type": "stream",
          "text": [
            "34\n",
            "<class 'str'>\n"
          ],
          "name": "stdout"
        }
      ]
    },
    {
      "cell_type": "markdown",
      "metadata": {
        "id": "MbNk-uxi5g7w",
        "colab_type": "text"
      },
      "source": [
        "# 032. 문자열 곱하기\n",
        "아래 코드의 실행 결과 예상"
      ]
    },
    {
      "cell_type": "code",
      "metadata": {
        "id": "0PwUnOeG5JqH",
        "colab_type": "code",
        "colab": {
          "base_uri": "https://localhost:8080/",
          "height": 35
        },
        "outputId": "2aec4a6b-1bd3-4a27-e35c-c34dfd44ee44"
      },
      "source": [
        "print(\"Hi\" * 3)\n",
        "\n",
        "# 예상 답: HiHiHi (O)"
      ],
      "execution_count": null,
      "outputs": [
        {
          "output_type": "stream",
          "text": [
            "HiHiHi\n"
          ],
          "name": "stdout"
        }
      ]
    },
    {
      "cell_type": "markdown",
      "metadata": {
        "id": "X_BqCg9O5tt0",
        "colab_type": "text"
      },
      "source": [
        "# 033.  문자열 곱하기\n",
        "화면에 '-' 80개 출력"
      ]
    },
    {
      "cell_type": "code",
      "metadata": {
        "id": "tP2jAG0w51v8",
        "colab_type": "code",
        "colab": {
          "base_uri": "https://localhost:8080/",
          "height": 35
        },
        "outputId": "374b856e-e1a5-41d0-ea5b-6478de9b9bd0"
      },
      "source": [
        "print('-' * 80)"
      ],
      "execution_count": null,
      "outputs": [
        {
          "output_type": "stream",
          "text": [
            "--------------------------------------------------------------------------------\n"
          ],
          "name": "stdout"
        }
      ]
    },
    {
      "cell_type": "markdown",
      "metadata": {
        "id": "y_Jys0wo55D3",
        "colab_type": "text"
      },
      "source": [
        "# 034. 문자열 곱하기\n",
        "변수에 문자열 더하기와 문자열 곱하기를 사용하여 다음과 같이 출력: \n",
        "python java python java python java python java"
      ]
    },
    {
      "cell_type": "code",
      "metadata": {
        "id": "CyOosTjp6K-f",
        "colab_type": "code",
        "colab": {
          "base_uri": "https://localhost:8080/",
          "height": 35
        },
        "outputId": "202d7fe4-9410-44cf-cc60-b05414f3b247"
      },
      "source": [
        "t1 = 'python'\n",
        "t2 = 'java'\n",
        "\n",
        "print((t1 + ' ' + t2 + ' ') * 4)"
      ],
      "execution_count": null,
      "outputs": [
        {
          "output_type": "stream",
          "text": [
            "python java python java python java python java \n"
          ],
          "name": "stdout"
        }
      ]
    },
    {
      "cell_type": "markdown",
      "metadata": {
        "id": "QYIoDiR76Xm6",
        "colab_type": "text"
      },
      "source": [
        "# 035. 문자열 출력\n",
        "% formatting 을 사용하여 다음과 같이 출력: \n",
        "이름: 김민수 나이: 10\n",
        "이름: 이철희 나이: 13"
      ]
    },
    {
      "cell_type": "code",
      "metadata": {
        "id": "9QBP_D-96qcp",
        "colab_type": "code",
        "colab": {
          "base_uri": "https://localhost:8080/",
          "height": 53
        },
        "outputId": "2fbd4a2a-d0a0-4b51-d138-d155617409d9"
      },
      "source": [
        "name1 = \"김민수\" \n",
        "age1 = 10\n",
        "name2 = \"이철희\"\n",
        "age2 = 13\n",
        "\n",
        "print(\"이름: %s 나이: %d\" % (name1, age1))\n",
        "print(\"이름: %s 나이: %d\" % (name2, age2))"
      ],
      "execution_count": null,
      "outputs": [
        {
          "output_type": "stream",
          "text": [
            "이름: 김민수 나이: 10\n",
            "이름: 이철희 나이: 13\n"
          ],
          "name": "stdout"
        }
      ]
    },
    {
      "cell_type": "markdown",
      "metadata": {
        "id": "uemctjfp7zGS",
        "colab_type": "text"
      },
      "source": [
        "# 036. 문자열출력\n",
        "format()메서드를 이용하여 035 풀기"
      ]
    },
    {
      "cell_type": "code",
      "metadata": {
        "id": "ChgUz5Fj743V",
        "colab_type": "code",
        "colab": {
          "base_uri": "https://localhost:8080/",
          "height": 53
        },
        "outputId": "6ea7f59f-a105-4f8b-c93e-87505ac8efda"
      },
      "source": [
        "name1 = \"김민수\" \n",
        "age1 = 10\n",
        "name2 = \"이철희\"\n",
        "age2 = 13\n",
        "\n",
        "print(\"이름: {} 나이: {}\".format(name1, age1))\n",
        "print(\"이름: {} 나이: {}\".format(name2, age2))"
      ],
      "execution_count": null,
      "outputs": [
        {
          "output_type": "stream",
          "text": [
            "이름: 김민수 나이: 10\n",
            "이름: 이철희 나이: 13\n"
          ],
          "name": "stdout"
        }
      ]
    },
    {
      "cell_type": "markdown",
      "metadata": {
        "id": "LAl4kEb68gLx",
        "colab_type": "text"
      },
      "source": [
        "# 037. 문자열출력\n",
        "f-string을 이용하여 035 풀기"
      ]
    },
    {
      "cell_type": "code",
      "metadata": {
        "id": "pIdh9PTT8nRs",
        "colab_type": "code",
        "colab": {
          "base_uri": "https://localhost:8080/",
          "height": 53
        },
        "outputId": "04b6cc2d-32b0-4cb1-f123-69333feef002"
      },
      "source": [
        "name1 = \"김민수\" \n",
        "age1 = 10\n",
        "name2 = \"이철희\"\n",
        "age2 = 13\n",
        "\n",
        "print(f\"이름: {name1} 나이: {age1}\")\n",
        "print(f\"이름: {name2} 나이: {age2}\")"
      ],
      "execution_count": null,
      "outputs": [
        {
          "output_type": "stream",
          "text": [
            "이름: 김민수 나이: 10\n",
            "이름: 이철희 나이: 13\n"
          ],
          "name": "stdout"
        }
      ]
    },
    {
      "cell_type": "markdown",
      "metadata": {
        "id": "Xl0ek2Vz7Iw0",
        "colab_type": "text"
      },
      "source": [
        "*   % formatting --\n",
        "print(\"~ %s ~ %d ~\" % (문자열, int))\n",
        "\n",
        "*   format() --\n",
        "print(\" ~ {} ~ \".format())\n",
        "※ format적용대상이 문자열인지 int인지 안따지고 {}로 표현\n",
        "\n",
        "*   f-string --\n",
        "f\"~{변수}\"\n"
      ]
    },
    {
      "cell_type": "markdown",
      "metadata": {
        "id": "D8pXRq1q9DOu",
        "colab_type": "text"
      },
      "source": [
        "# 038. 컴마 제거하기\n",
        "컴마를 제거한 후 정수타입으로 변환"
      ]
    },
    {
      "cell_type": "code",
      "metadata": {
        "id": "X7Cic9MX9bbx",
        "colab_type": "code",
        "colab": {
          "base_uri": "https://localhost:8080/",
          "height": 35
        },
        "outputId": "72e47c5e-fcef-4e45-e89f-815909999e56"
      },
      "source": [
        "상장주식수 = \"5,969,782,550\"\n",
        "print(int(상장주식수.replace(',', '')))\n",
        "\n",
        "# 숫자형태의 문자열에 컴마가 있는 경우 형변환 X\n",
        "# --컴마 제거 후 변환!"
      ],
      "execution_count": null,
      "outputs": [
        {
          "output_type": "stream",
          "text": [
            "5969782550\n"
          ],
          "name": "stdout"
        }
      ]
    },
    {
      "cell_type": "markdown",
      "metadata": {
        "id": "mvKJe4Wh9muM",
        "colab_type": "text"
      },
      "source": [
        "# 039. 문자열 슬라이싱\n",
        "'2020/03'만 출력"
      ]
    },
    {
      "cell_type": "code",
      "metadata": {
        "id": "D2tJrAVL95_Y",
        "colab_type": "code",
        "colab": {
          "base_uri": "https://localhost:8080/",
          "height": 35
        },
        "outputId": "fb407f99-24eb-439e-e932-26686455161d"
      },
      "source": [
        "분기 = \"2020/03(E) (IFRS연결)\"\n",
        "\n",
        "print(분기[:7])"
      ],
      "execution_count": null,
      "outputs": [
        {
          "output_type": "stream",
          "text": [
            "2020/03\n"
          ],
          "name": "stdout"
        }
      ]
    },
    {
      "cell_type": "markdown",
      "metadata": {
        "id": "N0Hq2phO-EPu",
        "colab_type": "text"
      },
      "source": [
        "# 040. strip 메서드\n",
        "문자열의 좌우 공백 제거"
      ]
    },
    {
      "cell_type": "code",
      "metadata": {
        "id": "FxwLJqXi-Mk-",
        "colab_type": "code",
        "colab": {
          "base_uri": "https://localhost:8080/",
          "height": 35
        },
        "outputId": "db60f0af-d400-4310-9668-aaba23687f71"
      },
      "source": [
        "data = \"   삼성전자    \"\n",
        "\n",
        "print(data.strip())"
      ],
      "execution_count": null,
      "outputs": [
        {
          "output_type": "stream",
          "text": [
            "삼성전자\n"
          ],
          "name": "stdout"
        }
      ]
    },
    {
      "cell_type": "markdown",
      "metadata": {
        "id": "M__a6AhS-Q-F",
        "colab_type": "text"
      },
      "source": [
        "# 041. upper 메서드\n",
        "대문자로 변경"
      ]
    },
    {
      "cell_type": "code",
      "metadata": {
        "id": "FPJDXHOq-szK",
        "colab_type": "code",
        "colab": {
          "base_uri": "https://localhost:8080/",
          "height": 35
        },
        "outputId": "f2862f26-dc1e-4181-bd97-9eac09488862"
      },
      "source": [
        "ticker = \"btc_krw\"\n",
        "print(ticker.upper())"
      ],
      "execution_count": null,
      "outputs": [
        {
          "output_type": "stream",
          "text": [
            "BTC_KRW\n"
          ],
          "name": "stdout"
        }
      ]
    },
    {
      "cell_type": "markdown",
      "metadata": {
        "id": "rIZ2uREd1IUv",
        "colab_type": "text"
      },
      "source": [
        "# 042. lower 메서드\n",
        "소문자로 변경"
      ]
    },
    {
      "cell_type": "code",
      "metadata": {
        "id": "vSjDg5qv1T-J",
        "colab_type": "code",
        "colab": {
          "base_uri": "https://localhost:8080/",
          "height": 35
        },
        "outputId": "5429bb44-efda-448b-ef24-ab9eb53f6dec"
      },
      "source": [
        "ticker = \"BTC_KRW\"\n",
        "print(ticker.lower())"
      ],
      "execution_count": null,
      "outputs": [
        {
          "output_type": "stream",
          "text": [
            "btc_krw\n"
          ],
          "name": "stdout"
        }
      ]
    },
    {
      "cell_type": "markdown",
      "metadata": {
        "id": "mH3_d2pN1bKv",
        "colab_type": "text"
      },
      "source": [
        "# 043. capitalize 메서드\n",
        "문자열 'hello'를 'Hello'로 변경"
      ]
    },
    {
      "cell_type": "code",
      "metadata": {
        "id": "WBVYvOvq1q4V",
        "colab_type": "code",
        "colab": {
          "base_uri": "https://localhost:8080/",
          "height": 35
        },
        "outputId": "2ba13f0b-10b1-4513-b2dc-b66aa7eb1421"
      },
      "source": [
        "str = 'hello'\n",
        "print(str.capitalize())"
      ],
      "execution_count": null,
      "outputs": [
        {
          "output_type": "stream",
          "text": [
            "Hello\n"
          ],
          "name": "stdout"
        }
      ]
    },
    {
      "cell_type": "markdown",
      "metadata": {
        "id": "k6N_rka_1yHe",
        "colab_type": "text"
      },
      "source": [
        "# 044. endswith 메서드\n",
        "문자열로 저장되어 있는 파일이름이 'xlsx'로 끝나는지 확인"
      ]
    },
    {
      "cell_type": "code",
      "metadata": {
        "id": "O6WXguuA2Gxp",
        "colab_type": "code",
        "colab": {
          "base_uri": "https://localhost:8080/",
          "height": 35
        },
        "outputId": "21d3f485-91f4-4950-c114-ba693c80cd80"
      },
      "source": [
        "file_name = \"보고서.xlsx\"\n",
        "print(file_name.endswith('xlsx'))"
      ],
      "execution_count": null,
      "outputs": [
        {
          "output_type": "stream",
          "text": [
            "True\n"
          ],
          "name": "stdout"
        }
      ]
    },
    {
      "cell_type": "markdown",
      "metadata": {
        "id": "r7hObrLL2Rjz",
        "colab_type": "text"
      },
      "source": [
        "# 045. endswith 메서드 \n",
        "문자열로 저장되어 있는 파일이름이 'xlsx' 또는 'xls'로 끝나는지 확인"
      ]
    },
    {
      "cell_type": "code",
      "metadata": {
        "id": "NS50JHbz2gFL",
        "colab_type": "code",
        "colab": {
          "base_uri": "https://localhost:8080/",
          "height": 35
        },
        "outputId": "33a0690e-551e-4254-e106-a9def4833d21"
      },
      "source": [
        "file_name = \"보고서.xlsx\"\n",
        "print(file_name.endswith('xlsx' or 'xls'))"
      ],
      "execution_count": null,
      "outputs": [
        {
          "output_type": "stream",
          "text": [
            "True\n"
          ],
          "name": "stdout"
        }
      ]
    },
    {
      "cell_type": "markdown",
      "metadata": {
        "id": "aXavriBJ2pRR",
        "colab_type": "text"
      },
      "source": [
        "# 046. startswith 메서드\n",
        "문자열로 저장되어 있는 파일이름이 '2020'으로 시작하는지 확인"
      ]
    },
    {
      "cell_type": "code",
      "metadata": {
        "id": "ctaDz8DM3PuW",
        "colab_type": "code",
        "colab": {
          "base_uri": "https://localhost:8080/",
          "height": 35
        },
        "outputId": "7d81a053-93d8-447e-c478-92cd476580f8"
      },
      "source": [
        "file_name = \"2020_보고서.xlsx\"\n",
        "print(file_name.startswith('2020'))"
      ],
      "execution_count": null,
      "outputs": [
        {
          "output_type": "stream",
          "text": [
            "True\n"
          ],
          "name": "stdout"
        }
      ]
    },
    {
      "cell_type": "markdown",
      "metadata": {
        "id": "la1GaQYU3Wgw",
        "colab_type": "text"
      },
      "source": [
        "# 047. split 메서드\n",
        "공백을 기준으로 문자열 나누기"
      ]
    },
    {
      "cell_type": "code",
      "metadata": {
        "id": "xFwLtl_83emv",
        "colab_type": "code",
        "colab": {
          "base_uri": "https://localhost:8080/",
          "height": 35
        },
        "outputId": "aa529638-d4ae-4fd9-94c8-40a5e203dcc5"
      },
      "source": [
        "a = \"hello world\"\n",
        "print(a.split())"
      ],
      "execution_count": null,
      "outputs": [
        {
          "output_type": "stream",
          "text": [
            "['hello', 'world']\n"
          ],
          "name": "stdout"
        }
      ]
    },
    {
      "cell_type": "markdown",
      "metadata": {
        "id": "_gJe23I93kZd",
        "colab_type": "text"
      },
      "source": [
        "# 048. split 메서드\n",
        "btc와 krw로 나누기\n"
      ]
    },
    {
      "cell_type": "code",
      "metadata": {
        "id": "HS3_1UBd3vKM",
        "colab_type": "code",
        "colab": {
          "base_uri": "https://localhost:8080/",
          "height": 35
        },
        "outputId": "25843772-173e-4f43-e3d5-58592a5e3aa0"
      },
      "source": [
        "ticker = \"btc_krw\"\n",
        "print(ticker.split('_'))"
      ],
      "execution_count": null,
      "outputs": [
        {
          "output_type": "stream",
          "text": [
            "['btc', 'krw']\n"
          ],
          "name": "stdout"
        }
      ]
    },
    {
      "cell_type": "markdown",
      "metadata": {
        "id": "EdBwJwQb32nv",
        "colab_type": "text"
      },
      "source": [
        "# 049. split 메서드\n",
        "연도, 월, 일로 나누기\n"
      ]
    },
    {
      "cell_type": "code",
      "metadata": {
        "id": "AB_UudxN4CH0",
        "colab_type": "code",
        "colab": {
          "base_uri": "https://localhost:8080/",
          "height": 35
        },
        "outputId": "e91dc8e9-42b6-4de0-f55f-83abede03faa"
      },
      "source": [
        "date = \"2020-05-01\"\n",
        "print(date.split('-'))"
      ],
      "execution_count": null,
      "outputs": [
        {
          "output_type": "stream",
          "text": [
            "['2020', '05', '01']\n"
          ],
          "name": "stdout"
        }
      ]
    },
    {
      "cell_type": "markdown",
      "metadata": {
        "id": "7jmzxGFo4G2U",
        "colab_type": "text"
      },
      "source": [
        "# 050. rstrip 메서드\n",
        "문자열 오른쪽 공백 제거"
      ]
    },
    {
      "cell_type": "code",
      "metadata": {
        "id": "Y-zp4zSz4Qbl",
        "colab_type": "code",
        "colab": {
          "base_uri": "https://localhost:8080/",
          "height": 35
        },
        "outputId": "346977ac-b600-409e-a556-f9bf85fb9c33"
      },
      "source": [
        "data = \"039490      \"\n",
        "print(data.rstrip())"
      ],
      "execution_count": null,
      "outputs": [
        {
          "output_type": "stream",
          "text": [
            "039490\n"
          ],
          "name": "stdout"
        }
      ]
    },
    {
      "cell_type": "markdown",
      "metadata": {
        "id": "Yp0VWyX24W99",
        "colab_type": "text"
      },
      "source": [
        "# **4. 파이썬 리스트**"
      ]
    },
    {
      "cell_type": "markdown",
      "metadata": {
        "id": "QsHQfHkb4lQb",
        "colab_type": "text"
      },
      "source": [
        "# 051. 리스트 생성\n",
        "영화제목 movie_rank이름의 리스트에 저장하기\n",
        "\n",
        "![051.PNG](data:image/png;base64,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)"
      ]
    },
    {
      "cell_type": "code",
      "metadata": {
        "id": "7AcQj7w_47Pa",
        "colab_type": "code",
        "colab": {}
      },
      "source": [
        "movie_rank = ['닥터 스트레인지', '스플릿', '럭키']"
      ],
      "execution_count": null,
      "outputs": []
    },
    {
      "cell_type": "markdown",
      "metadata": {
        "id": "-NLtEZ9kEc_X",
        "colab_type": "text"
      },
      "source": [
        "# 052. 리스트에 원소 추가\n",
        "movie_rank 리스트에 \"베트맨\" 추가\n"
      ]
    },
    {
      "cell_type": "code",
      "metadata": {
        "id": "2qGf3PoGEgE1",
        "colab_type": "code",
        "colab": {
          "base_uri": "https://localhost:8080/",
          "height": 35
        },
        "outputId": "47074b20-dc74-4484-d7c5-db584cf9a5ca"
      },
      "source": [
        "movie_rank = ['닥터 스트레인지', '스플릿', '럭키']\n",
        "movie_rank.append('배트맨')\n",
        "movie_rank"
      ],
      "execution_count": null,
      "outputs": [
        {
          "output_type": "execute_result",
          "data": {
            "text/plain": [
              "['닥터 스트레인지', '스플릿', '럭키', '배트맨']"
            ]
          },
          "metadata": {
            "tags": []
          },
          "execution_count": 2
        }
      ]
    },
    {
      "cell_type": "markdown",
      "metadata": {
        "id": "uHT6OHhYErM1",
        "colab_type": "text"
      },
      "source": [
        "# 053. 리스트 수정 1\n",
        "movie_rank 리스트에 \"슈퍼맨\"을 \"닥터 스트레인지\"와 \"스플릿\" 사이에 추가"
      ]
    },
    {
      "cell_type": "code",
      "metadata": {
        "id": "61Bu3TipFHMW",
        "colab_type": "code",
        "colab": {
          "base_uri": "https://localhost:8080/",
          "height": 35
        },
        "outputId": "449ce5c2-889c-479b-86eb-d63aab286221"
      },
      "source": [
        "movie_rank = ['닥터 스트레인지', '스플릿', '럭키', '배트맨']\n",
        "movie_rank.insert(1, \"슈퍼맨\")\n",
        "movie_rank"
      ],
      "execution_count": null,
      "outputs": [
        {
          "output_type": "execute_result",
          "data": {
            "text/plain": [
              "['닥터 스트레인지', '슈퍼맨', '스플릿', '럭키', '배트맨']"
            ]
          },
          "metadata": {
            "tags": []
          },
          "execution_count": 4
        }
      ]
    },
    {
      "cell_type": "markdown",
      "metadata": {
        "id": "E_gcy0oqFjKw",
        "colab_type": "text"
      },
      "source": [
        "※ 리스트 특정위치에 값 끼워넣기: .insert(인덱스, 추가할 원소)"
      ]
    },
    {
      "cell_type": "markdown",
      "metadata": {
        "id": "N-_uvF4OFZ96",
        "colab_type": "text"
      },
      "source": [
        "# 054. 리스트 수정 2\n",
        "movie_rank 리스트에서 \"럭키\" 삭제"
      ]
    },
    {
      "cell_type": "code",
      "metadata": {
        "id": "udjrieaaF6DI",
        "colab_type": "code",
        "colab": {
          "base_uri": "https://localhost:8080/",
          "height": 35
        },
        "outputId": "4eda80bb-e3b5-4e6d-e03f-cd0d19c013c5"
      },
      "source": [
        "movie_rank = ['닥터 스트레인지', '슈퍼맨', '스플릿', '럭키', '배트맨']\n",
        "del movie_rank[3]\n",
        "movie_rank"
      ],
      "execution_count": null,
      "outputs": [
        {
          "output_type": "execute_result",
          "data": {
            "text/plain": [
              "['닥터 스트레인지', '슈퍼맨', '스플릿', '배트맨']"
            ]
          },
          "metadata": {
            "tags": []
          },
          "execution_count": 9
        }
      ]
    },
    {
      "cell_type": "markdown",
      "metadata": {
        "id": "oJEFcyg1GBnq",
        "colab_type": "text"
      },
      "source": [
        "※ 리스트 원소 삭제: del 리스트[인덱스]"
      ]
    },
    {
      "cell_type": "markdown",
      "metadata": {
        "id": "vntwtTo9GVic",
        "colab_type": "text"
      },
      "source": [
        "# 055. 리스트 수정 3\n",
        "movie_rank 리스트에서 '스플릿'과 '배트맨' 삭제"
      ]
    },
    {
      "cell_type": "code",
      "metadata": {
        "id": "Vz4ym1snGdT9",
        "colab_type": "code",
        "colab": {
          "base_uri": "https://localhost:8080/",
          "height": 208
        },
        "outputId": "bb269e2b-0057-4dcf-ec52-f087ce32dde3"
      },
      "source": [
        "movie_rank = ['닥터 스트레인지', '슈퍼맨', '스플릿', '배트맨']\n",
        "del movie_rank[2][3]\n",
        "movie_rank"
      ],
      "execution_count": null,
      "outputs": [
        {
          "output_type": "error",
          "ename": "TypeError",
          "evalue": "ignored",
          "traceback": [
            "\u001b[0;31m---------------------------------------------------------------------------\u001b[0m",
            "\u001b[0;31mTypeError\u001b[0m                                 Traceback (most recent call last)",
            "\u001b[0;32m<ipython-input-12-397c31b0c7c5>\u001b[0m in \u001b[0;36m<module>\u001b[0;34m()\u001b[0m\n\u001b[1;32m      1\u001b[0m \u001b[0mmovie_rank\u001b[0m \u001b[0;34m=\u001b[0m \u001b[0;34m[\u001b[0m\u001b[0;34m'닥터 스트레인지'\u001b[0m\u001b[0;34m,\u001b[0m \u001b[0;34m'슈퍼맨'\u001b[0m\u001b[0;34m,\u001b[0m \u001b[0;34m'스플릿'\u001b[0m\u001b[0;34m,\u001b[0m \u001b[0;34m'배트맨'\u001b[0m\u001b[0;34m]\u001b[0m\u001b[0;34m\u001b[0m\u001b[0;34m\u001b[0m\u001b[0m\n\u001b[0;32m----> 2\u001b[0;31m \u001b[0;32mdel\u001b[0m \u001b[0mmovie_rank\u001b[0m\u001b[0;34m[\u001b[0m\u001b[0;36m2\u001b[0m\u001b[0;34m,\u001b[0m \u001b[0;36m3\u001b[0m\u001b[0;34m]\u001b[0m\u001b[0;34m\u001b[0m\u001b[0;34m\u001b[0m\u001b[0m\n\u001b[0m\u001b[1;32m      3\u001b[0m \u001b[0mmovie_rank\u001b[0m\u001b[0;34m\u001b[0m\u001b[0;34m\u001b[0m\u001b[0m\n",
            "\u001b[0;31mTypeError\u001b[0m: list indices must be integers or slices, not tuple"
          ]
        }
      ]
    },
    {
      "cell_type": "code",
      "metadata": {
        "id": "_MMhvoWDGrhn",
        "colab_type": "code",
        "colab": {}
      },
      "source": [
        "§ 정답\n",
        "movie_rank = ['닥터 스트레인지', '슈퍼맨', '스플릿', '배트맨']\n",
        "del movie_rank[2]\n",
        "del movie_rank[2]\n",
        "print(movie_rank)"
      ],
      "execution_count": null,
      "outputs": []
    },
    {
      "cell_type": "markdown",
      "metadata": {
        "id": "X2Q57DPGG-TE",
        "colab_type": "text"
      },
      "source": [
        "※ del을 이용하여 리스트 원소 삭제할 때:\n",
        "\n",
        "리스트에서 어떤 원소를 삭제하면 **남은 값들은 새로 인덱싱**되므로\n",
        "\n",
        "**여러 원소들이 삭제할 때**에는\n",
        "\n",
        "**어떤 원소가 먼저 삭제된 후 남은 원소들에 대해 순서를 새로 고려한 후 삭제**"
      ]
    },
    {
      "cell_type": "markdown",
      "metadata": {
        "id": "QmHFHqhYHb-6",
        "colab_type": "text"
      },
      "source": [
        "# 056.\n",
        "리스트 lang1과 lang2의 원소를 모두 갖고 있는 langs 리스트를 만들기"
      ]
    },
    {
      "cell_type": "code",
      "metadata": {
        "id": "sxttqjoTHwqv",
        "colab_type": "code",
        "colab": {
          "base_uri": "https://localhost:8080/",
          "height": 35
        },
        "outputId": "869e3666-ca59-4a76-e1b1-927afb6ff66b"
      },
      "source": [
        "lang1 = [\"C\", \"C++\", \"JAVA\"]\n",
        "lang2 = [\"Python\", \"Go\", \"C#\"]\n",
        "\n",
        "langs = lang1 + lang2\n",
        "langs"
      ],
      "execution_count": null,
      "outputs": [
        {
          "output_type": "execute_result",
          "data": {
            "text/plain": [
              "['C', 'C++', 'JAVA', 'Python', 'Go', 'C#']"
            ]
          },
          "metadata": {
            "tags": []
          },
          "execution_count": 13
        }
      ]
    },
    {
      "cell_type": "markdown",
      "metadata": {
        "id": "HNiOnqtyH4Ha",
        "colab_type": "text"
      },
      "source": [
        "# 057.\n",
        "min(), max() 함수를 사용하여 최댓값과 최솟값을 출력 "
      ]
    },
    {
      "cell_type": "code",
      "metadata": {
        "id": "7evx5EDEH7wJ",
        "colab_type": "code",
        "colab": {
          "base_uri": "https://localhost:8080/",
          "height": 53
        },
        "outputId": "8cd65898-a3f1-4077-d9db-5f550eb4914a"
      },
      "source": [
        "nums = [1, 2, 3, 4, 5, 6, 7]\n",
        "print('최솟값:', min(nums))\n",
        "print('최댓값:', max(nums)) "
      ],
      "execution_count": null,
      "outputs": [
        {
          "output_type": "stream",
          "text": [
            "최솟값: 1\n",
            "최댓값: 7\n"
          ],
          "name": "stdout"
        }
      ]
    },
    {
      "cell_type": "markdown",
      "metadata": {
        "id": "ZqmMrBBaIZve",
        "colab_type": "text"
      },
      "source": [
        "# 058.\n",
        "리스트의 합 구하기"
      ]
    },
    {
      "cell_type": "code",
      "metadata": {
        "id": "4TQJP3pnI1qj",
        "colab_type": "code",
        "colab": {
          "base_uri": "https://localhost:8080/",
          "height": 35
        },
        "outputId": "1d0a9a20-6413-4808-cab2-6d1156febe1e"
      },
      "source": [
        "nums = [1, 2, 3, 4, 5]\n",
        "print(sum(nums))"
      ],
      "execution_count": null,
      "outputs": [
        {
          "output_type": "stream",
          "text": [
            "15\n"
          ],
          "name": "stdout"
        }
      ]
    },
    {
      "cell_type": "markdown",
      "metadata": {
        "id": "ciCHKmdnI-s2",
        "colab_type": "text"
      },
      "source": [
        "# 059. \n",
        "리스트에 저장된 데이터의 개수 출력하기"
      ]
    },
    {
      "cell_type": "code",
      "metadata": {
        "id": "uPTehq3JJGEV",
        "colab_type": "code",
        "colab": {
          "base_uri": "https://localhost:8080/",
          "height": 35
        },
        "outputId": "80899c0f-0bf7-4a30-8748-8d323936e9be"
      },
      "source": [
        "cook = [\"피자\", \"김밥\", \"만두\", \"양념치킨\", \"족발\", \"피자\", \"김치만두\", \"쫄면\", \"쏘세지\", \"라면\", \"팥빙수\", \"김치전\"]\n",
        "print(len(cook))"
      ],
      "execution_count": null,
      "outputs": [
        {
          "output_type": "stream",
          "text": [
            "12\n"
          ],
          "name": "stdout"
        }
      ]
    },
    {
      "cell_type": "markdown",
      "metadata": {
        "id": "EkDKxDzzJOWL",
        "colab_type": "text"
      },
      "source": [
        "# 060.\n",
        "리스트의 평균 구하기"
      ]
    },
    {
      "cell_type": "code",
      "metadata": {
        "id": "H_Npx6yRJS8c",
        "colab_type": "code",
        "colab": {
          "base_uri": "https://localhost:8080/",
          "height": 35
        },
        "outputId": "45761fa2-b62f-4d7b-880b-15cc0065f5ac"
      },
      "source": [
        "nums = [1, 2, 3, 4, 5]\n",
        "average = sum(nums) / len(nums)\n",
        "print(average)"
      ],
      "execution_count": null,
      "outputs": [
        {
          "output_type": "stream",
          "text": [
            "3.0\n"
          ],
          "name": "stdout"
        }
      ]
    },
    {
      "cell_type": "markdown",
      "metadata": {
        "id": "p-3YZeDIJXcb",
        "colab_type": "text"
      },
      "source": [
        "# 061. \n",
        "날짜 정보 제외, 가격 정보 출력 "
      ]
    },
    {
      "cell_type": "code",
      "metadata": {
        "id": "PpBueDnuOgtW",
        "colab_type": "code",
        "colab": {
          "base_uri": "https://localhost:8080/",
          "height": 35
        },
        "outputId": "b680ab3b-75cc-4d17-cd87-64358fdc8631"
      },
      "source": [
        "price = ['20180728', 100, 130, 140, 150, 160, 170]\n",
        "print(price[1:])"
      ],
      "execution_count": 2,
      "outputs": [
        {
          "output_type": "stream",
          "text": [
            "[100, 130, 140, 150, 160, 170]\n"
          ],
          "name": "stdout"
        }
      ]
    },
    {
      "cell_type": "markdown",
      "metadata": {
        "id": "mxYHaFJPOvbn",
        "colab_type": "text"
      },
      "source": [
        "#062. \n",
        "슬라이싱 이용, 홀수만 출력"
      ]
    },
    {
      "cell_type": "code",
      "metadata": {
        "id": "8VcQbEclO8x0",
        "colab_type": "code",
        "colab": {
          "base_uri": "https://localhost:8080/",
          "height": 35
        },
        "outputId": "fbb368b0-f33b-4a9f-8ef9-e96ae2aead0c"
      },
      "source": [
        "nums = [1, 2, 3, 4, 5, 6, 7, 8, 9, 10]\n",
        "print(nums[::2])"
      ],
      "execution_count": 6,
      "outputs": [
        {
          "output_type": "stream",
          "text": [
            "[1, 3, 5, 7, 9]\n"
          ],
          "name": "stdout"
        }
      ]
    },
    {
      "cell_type": "markdown",
      "metadata": {
        "id": "BboRfzRYPD9j",
        "colab_type": "text"
      },
      "source": [
        "#063. \n",
        "슬라이싱 이용, 짝수만 출력"
      ]
    },
    {
      "cell_type": "code",
      "metadata": {
        "id": "wPb-My-hPbFB",
        "colab_type": "code",
        "colab": {
          "base_uri": "https://localhost:8080/",
          "height": 35
        },
        "outputId": "5e258e6c-8671-4718-8e55-886a34ec7db2"
      },
      "source": [
        "nums = [1, 2, 3, 4, 5, 6, 7, 8, 9, 10]\n",
        "print(nums[1::2])"
      ],
      "execution_count": 7,
      "outputs": [
        {
          "output_type": "stream",
          "text": [
            "[2, 4, 6, 8, 10]\n"
          ],
          "name": "stdout"
        }
      ]
    },
    {
      "cell_type": "markdown",
      "metadata": {
        "id": "gIj6cIBAPjOo",
        "colab_type": "text"
      },
      "source": [
        "#064. \n",
        "슬라이싱 이용, 리스트의 숫자를 역방향으로 출력"
      ]
    },
    {
      "cell_type": "code",
      "metadata": {
        "id": "VnWm0jG3PqoT",
        "colab_type": "code",
        "colab": {
          "base_uri": "https://localhost:8080/",
          "height": 35
        },
        "outputId": "83bb99e8-a479-45e8-88e2-d289f4da76ae"
      },
      "source": [
        "nums = [1, 2, 3, 4, 5]\n",
        "print(nums[::-1])"
      ],
      "execution_count": 9,
      "outputs": [
        {
          "output_type": "stream",
          "text": [
            "[5, 4, 3, 2, 1]\n"
          ],
          "name": "stdout"
        }
      ]
    },
    {
      "cell_type": "markdown",
      "metadata": {
        "id": "y5qKb4hmPxd4",
        "colab_type": "text"
      },
      "source": [
        "# 065. \n",
        "interest 리스트 사용, 다음과 같이 출력: \n",
        "\n",
        "출력 예시:\n",
        "\n",
        "삼성전자 Naver"
      ]
    },
    {
      "cell_type": "code",
      "metadata": {
        "id": "UlgHpza3QDuR",
        "colab_type": "code",
        "colab": {
          "base_uri": "https://localhost:8080/",
          "height": 35
        },
        "outputId": "4f94abe4-fb14-46f7-8c91-a1ec6f3e2ed3"
      },
      "source": [
        "interest = ['삼성전자', 'LG전자', 'Naver']\n",
        "print(interest[0], interest[2])"
      ],
      "execution_count": 14,
      "outputs": [
        {
          "output_type": "stream",
          "text": [
            "삼성전자 Naver\n"
          ],
          "name": "stdout"
        }
      ]
    },
    {
      "cell_type": "markdown",
      "metadata": {
        "id": "u5ZSnAQeQUEo",
        "colab_type": "text"
      },
      "source": [
        "# 066. join 메서드\n",
        "interest 리스트 사용, 다음과 같이 출력: \n",
        "\n",
        "출력 예시:\n",
        "\n",
        "삼성전자 LG전자 Naver SK하이닉스 미래에셋대우"
      ]
    },
    {
      "cell_type": "code",
      "metadata": {
        "id": "Rqrs3g91Q7VN",
        "colab_type": "code",
        "colab": {
          "base_uri": "https://localhost:8080/",
          "height": 35
        },
        "outputId": "6cbe9823-8f03-4291-bfb0-11359e3b19bd"
      },
      "source": [
        "interest = ['삼성전자', 'LG전자', 'Naver', 'SK하이닉스', '미래에셋대우']\n",
        "print(interest)"
      ],
      "execution_count": 15,
      "outputs": [
        {
          "output_type": "execute_result",
          "data": {
            "text/plain": [
              "['삼성전자', 'LG전자', 'Naver', 'SK하이닉스', '미래에셋대우']"
            ]
          },
          "metadata": {
            "tags": []
          },
          "execution_count": 15
        }
      ]
    },
    {
      "cell_type": "code",
      "metadata": {
        "id": "w_HrBMteRMEu",
        "colab_type": "code",
        "colab": {
          "base_uri": "https://localhost:8080/",
          "height": 35
        },
        "outputId": "23fff474-127a-4896-98e0-f9f20379beae"
      },
      "source": [
        "# think: \n",
        "print(\" \" .join(interest),  type(\" \".join(interest)))"
      ],
      "execution_count": 17,
      "outputs": [
        {
          "output_type": "stream",
          "text": [
            "삼성전자 LG전자 Naver SK하이닉스 미래에셋대우 <class 'str'>\n"
          ],
          "name": "stdout"
        }
      ]
    },
    {
      "cell_type": "markdown",
      "metadata": {
        "id": "b3Q9P7GNREBd",
        "colab_type": "text"
      },
      "source": [
        "※ \"\".join(리스트명): 리스트에 \"특정 구분자\"를 추가하여 문자열로 변환\n"
      ]
    },
    {
      "cell_type": "markdown",
      "metadata": {
        "id": "fr_dA44bSNkP",
        "colab_type": "text"
      },
      "source": [
        "#067. join 메서드\n",
        "interest 리스트 사용, 다음과 같이 출력: \n",
        "\n",
        "출력 예시:\n",
        "\n",
        "삼성전자/LG전자/Naver/SK하이닉스/미래에셋대우\n"
      ]
    },
    {
      "cell_type": "code",
      "metadata": {
        "id": "FjAGst_gTnGz",
        "colab_type": "code",
        "colab": {
          "base_uri": "https://localhost:8080/",
          "height": 35
        },
        "outputId": "172bebb8-3d8d-4e4e-e2d0-3d7e3b347e42"
      },
      "source": [
        "interest = ['삼성전자', 'LG전자', 'Naver', 'SK하이닉스', '미래에셋대우']\n",
        "print(\"/\".join(interest))"
      ],
      "execution_count": 23,
      "outputs": [
        {
          "output_type": "stream",
          "text": [
            "삼성전자/LG전자/Naver/SK하이닉스/미래에셋대우\n"
          ],
          "name": "stdout"
        }
      ]
    },
    {
      "cell_type": "markdown",
      "metadata": {
        "id": "LvYaZo8xT1QE",
        "colab_type": "text"
      },
      "source": [
        "#068. join 메서드\n",
        "interest 리스트 사용, 다음과 같이 출력:\n",
        "\n",
        "출력 예시:\n",
        "\n",
        "삼성전자\n",
        "\n",
        "LG전자\n",
        "\n",
        "Naver\n",
        "\n",
        "SK하이닉스\n",
        "\n",
        "미래에셋대우\n"
      ]
    },
    {
      "cell_type": "code",
      "metadata": {
        "id": "VyiCxk1ZUNUP",
        "colab_type": "code",
        "colab": {
          "base_uri": "https://localhost:8080/",
          "height": 107
        },
        "outputId": "98c9095c-eafc-490b-b120-199ca787ceff"
      },
      "source": [
        "interest = ['삼성전자', 'LG전자', 'Naver', 'SK하이닉스', '미래에셋대우']\n",
        "print(\"\\n\".join(interest))"
      ],
      "execution_count": 24,
      "outputs": [
        {
          "output_type": "stream",
          "text": [
            "삼성전자\n",
            "LG전자\n",
            "Naver\n",
            "SK하이닉스\n",
            "미래에셋대우\n"
          ],
          "name": "stdout"
        }
      ]
    },
    {
      "cell_type": "markdown",
      "metadata": {
        "id": "iPy_qTk1UUJ0",
        "colab_type": "text"
      },
      "source": [
        "#069. split 메서드\n",
        "interest 이름의 리스트로 분리 저장"
      ]
    },
    {
      "cell_type": "code",
      "metadata": {
        "id": "H1Ts9-pqUWQ1",
        "colab_type": "code",
        "colab": {
          "base_uri": "https://localhost:8080/",
          "height": 35
        },
        "outputId": "3374d130-ac2f-4960-a9ad-3b1ba6667bf1"
      },
      "source": [
        "string = \"삼성전자/LG전자/Naver\"\n",
        "interest = string.split(\"/\")\n",
        "print(interest)"
      ],
      "execution_count": 28,
      "outputs": [
        {
          "output_type": "stream",
          "text": [
            "['삼성전자', 'LG전자', 'Naver']\n"
          ],
          "name": "stdout"
        }
      ]
    },
    {
      "cell_type": "markdown",
      "metadata": {
        "id": "qs7vySTwUrM5",
        "colab_type": "text"
      },
      "source": [
        "※ .split() 결과는 리스트!"
      ]
    },
    {
      "cell_type": "markdown",
      "metadata": {
        "id": "vKEXLPCJVEgA",
        "colab_type": "text"
      },
      "source": [
        "#070. 리스트 정렬\n",
        "오름차순으로 정렬"
      ]
    },
    {
      "cell_type": "code",
      "metadata": {
        "id": "GsN8mMrGVJKR",
        "colab_type": "code",
        "colab": {
          "base_uri": "https://localhost:8080/",
          "height": 35
        },
        "outputId": "0f65ac82-db05-4f12-9b69-022cb621b70c"
      },
      "source": [
        "data = [2, 4, 3, 1, 5, 10, 9]\n",
        "data.sort()\n",
        "print(data)"
      ],
      "execution_count": 30,
      "outputs": [
        {
          "output_type": "stream",
          "text": [
            "[1, 2, 3, 4, 5, 9, 10]\n"
          ],
          "name": "stdout"
        }
      ]
    },
    {
      "cell_type": "code",
      "metadata": {
        "id": "VKueIQ3mVVxI",
        "colab_type": "code",
        "colab": {
          "base_uri": "https://localhost:8080/",
          "height": 35
        },
        "outputId": "76e80bbd-3b1c-4221-a05c-391e33eeca14"
      },
      "source": [
        "# think more\n",
        "data2 = sorted(data)\n",
        "print(data2)"
      ],
      "execution_count": 31,
      "outputs": [
        {
          "output_type": "stream",
          "text": [
            "[1, 2, 3, 4, 5, 9, 10]\n"
          ],
          "name": "stdout"
        }
      ]
    },
    {
      "cell_type": "markdown",
      "metadata": {
        "id": "r-v9YWL9Vj7P",
        "colab_type": "text"
      },
      "source": [
        "※ .sort() 의 기본정렬방식은 오름차순! "
      ]
    },
    {
      "cell_type": "markdown",
      "metadata": {
        "id": "Dhn6p4wrVy4n",
        "colab_type": "text"
      },
      "source": [
        "#**05. 파이썬 튜플**\n",
        "순서 O, 수정 X\n"
      ]
    },
    {
      "cell_type": "markdown",
      "metadata": {
        "id": "8p0eUqkNV4QL",
        "colab_type": "text"
      },
      "source": [
        "#071.\n",
        "my_variable이름의 비어있는 튜플 만들기"
      ]
    }
  ]
}