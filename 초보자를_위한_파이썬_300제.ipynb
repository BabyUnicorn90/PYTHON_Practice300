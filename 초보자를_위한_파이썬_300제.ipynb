{
  "nbformat": 4,
  "nbformat_minor": 0,
  "metadata": {
    "colab": {
      "name": "초보자를 위한 파이썬 300제.ipynb",
      "provenance": [],
      "authorship_tag": "ABX9TyO7wt1EPAO3x9NXiFlceBh0"
    },
    "kernelspec": {
      "name": "python3",
      "display_name": "Python 3"
    }
  },
  "cells": [
    {
      "cell_type": "markdown",
      "metadata": {
        "id": "pegdFRitNiEy",
        "colab_type": "text"
      },
      "source": [
        "# 001~010"
      ]
    },
    {
      "cell_type": "code",
      "metadata": {
        "id": "fszTozlbNkB7",
        "colab_type": "code",
        "colab": {
          "base_uri": "https://localhost:8080/",
          "height": 197
        },
        "outputId": "3dcff5aa-a9b0-485e-abed-1689b04bdd27"
      },
      "source": [
        "print('Hello World')\n",
        "print(\"Mary's cosmetics\")\n",
        "print('신씨가 소리질렀다. \"도둑이야\".')\n",
        "print('\"C:\\Windows\"')\n",
        "# \\t: 탭간격 띄우기, \\n: 행 띄우기\n",
        "# 오늘은 일요일\n",
        "print('naver;kakao;sk;samsung')  # --> print('naver', 'kakao', 'sk', 'samsung', sep=';') // sep 인자: sep=' ' -출력되는 값들 사이에 한 칸의 공백대신 sep 인자 출력\n",
        "print('naver', 'kakao', 'sk', 'samsung', sep='/')\n",
        "print(\"first\", end=' '); print(\"second\")\n",
        "print(5/3); print(5//3); print(5%3)"
      ],
      "execution_count": 12,
      "outputs": [
        {
          "output_type": "stream",
          "text": [
            "Hello World\n",
            "Mary's cosmetics\n",
            "신씨가 소리질렀다. \"도둑이야\".\n",
            "\"C:\\Windows\"\n",
            "naver;kakao;sk;samsung\n",
            "naver/kakao/sk/samsung\n",
            "first second\n",
            "1.6666666666666667\n",
            "1\n",
            "2\n"
          ],
          "name": "stdout"
        }
      ]
    },
    {
      "cell_type": "markdown",
      "metadata": {
        "id": "bvj54VPPTPPX",
        "colab_type": "text"
      },
      "source": [
        "# 011~020"
      ]
    },
    {
      "cell_type": "code",
      "metadata": {
        "id": "Evqrd804PlKH",
        "colab_type": "code",
        "colab": {
          "base_uri": "https://localhost:8080/",
          "height": 125
        },
        "outputId": "e0fb3932-5249-451a-91eb-b5412edaee9d"
      },
      "source": [
        "#11 \n",
        "삼성전자 = 50000; print(삼성전자 * 10)   # --변수 ≠ 문자열\n",
        "#12\n",
        "시가총액 = '298조'; 현재가 = '50000원'; PER = 15.79\n",
        "#13\n",
        "s = 'hello'\n",
        "t = 'python'\n",
        "print(s+'!',t)\n",
        "#14\n",
        "8\n",
        "#15\n",
        "a = '132'\n",
        "type(a)              # -- str\n",
        "print(type(a))       # -- <class 'str'>\n",
        "#16\n",
        "num_str = '720'\n",
        "int(num_str)\n",
        "#17\n",
        "num = 100\n",
        "str(num)\n",
        "#18\n",
        "a = \"15.79\"\n",
        "b = float(a)\n",
        "print(b)\n",
        "#19\n",
        "year = \"2020\"\n",
        "year_int = int(year)\n",
        "print(year_int - 1, year_int - 2, year_int - 3)\n",
        "#20\n",
        "a = 48584 * 36\n",
        "print(a)"
      ],
      "execution_count": 39,
      "outputs": [
        {
          "output_type": "stream",
          "text": [
            "500000\n",
            "hello! python\n",
            "<class 'str'>\n",
            "15.79\n",
            "2019 2018 2017\n",
            "1749024\n"
          ],
          "name": "stdout"
        }
      ]
    },
    {
      "cell_type": "markdown",
      "metadata": {
        "id": "qSOPI4e7Yqty",
        "colab_type": "text"
      },
      "source": [
        "# 021~030"
      ]
    },
    {
      "cell_type": "code",
      "metadata": {
        "id": "7XY7NcIJTujH",
        "colab_type": "code",
        "colab": {
          "base_uri": "https://localhost:8080/",
          "height": 107
        },
        "outputId": "132c6287-cd24-4dac-8e59-445bd6047a1d"
      },
      "source": [
        "#21: 문자열 인덱싱\n",
        "letters = 'python'\n",
        "#letters[0][2]            # --2D list (밑 참고)\n",
        "print(letters[0], end=' '); print(letters[2])\n",
        "\n",
        "# 참고: 2D Array \n",
        "# letters = [1, 2, [3, 4, 5]]\n",
        "# letters[2][0]     #letters의 3번째 item의 1번째 item: 3\n",
        "\n",
        "# 파이썬 문자열에서 <한 글자>를 가져오는 것을 인덱싱이라고 부릅니다. 파이썬 인덱싱은 0부터 시작합니다.\n",
        "\n",
        "#22: 문자열 슬라이싱\n",
        "license_plate = \"42가 2210\"\n",
        "print(license_plate[4:])\n",
        "\n",
        "# 문자열에서 <여러 글자>를 가져오는 것을 슬라이싱이라고 부릅니다.\n",
        "\n",
        "#23:문자열 인덱싱 2\n",
        "string = \"홀짝홀짝홀짝\"\n",
        "print(string[::2])\n",
        "# 슬라이싱할 때 시작인덱스:끝인덱스:오프셋을 지정할 수 있습니다.\n",
        "\n",
        "#24: 문자열 슬라이싱 2\n",
        "string = \"PYTHON\"\n",
        "print(string[::-1])\n",
        "\n",
        "#25: 문자열 치환\n",
        "phone_number = \"010-1111-2222\"\n",
        "print(phone_number.replace('-',' '))"
      ],
      "execution_count": 23,
      "outputs": [
        {
          "output_type": "stream",
          "text": [
            "p t\n",
            "2210\n",
            "홀홀홀\n",
            "NOHTYP\n",
            "010 1111 2222\n"
          ],
          "name": "stdout"
        }
      ]
    },
    {
      "cell_type": "code",
      "metadata": {
        "id": "0giwbqVreX5w",
        "colab_type": "code",
        "colab": {}
      },
      "source": [
        "license"
      ],
      "execution_count": null,
      "outputs": []
    }
  ]
}